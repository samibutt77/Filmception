{
 "cells": [
  {
   "cell_type": "code",
   "execution_count": 1,
   "id": "7b95398d",
   "metadata": {},
   "outputs": [
    {
     "name": "stdout",
     "output_type": "stream",
     "text": [
      "pygame 2.6.1 (SDL 2.28.4, Python 3.11.8)\n",
      "Hello from the pygame community. https://www.pygame.org/contribute.html\n"
     ]
    },
    {
     "name": "stderr",
     "output_type": "stream",
     "text": [
      "c:\\Users\\init\\AppData\\Local\\Programs\\Python\\Python311\\Lib\\site-packages\\tqdm\\auto.py:21: TqdmWarning: IProgress not found. Please update jupyter and ipywidgets. See https://ipywidgets.readthedocs.io/en/stable/user_install.html\n",
      "  from .autonotebook import tqdm as notebook_tqdm\n"
     ]
    }
   ],
   "source": [
    "import os\n",
    "import time\n",
    "import pygame\n",
    "import numpy as np\n",
    "import streamlit as st\n",
    "from gtts import gTTS\n",
    "from datetime import datetime\n",
    "from scipy.sparse import hstack\n",
    "from googletrans import Translator\n",
    "from sentence_transformers import SentenceTransformer\n",
    "import joblib"
   ]
  },
  {
   "cell_type": "code",
   "execution_count": 2,
   "id": "2d820da3",
   "metadata": {},
   "outputs": [
    {
     "name": "stderr",
     "output_type": "stream",
     "text": [
      "2025-05-07 07:40:26.107 WARNING streamlit.runtime.scriptrunner_utils.script_run_context: Thread 'MainThread': missing ScriptRunContext! This warning can be ignored when running in bare mode.\n",
      "2025-05-07 07:40:26.638 \n",
      "  \u001b[33m\u001b[1mWarning:\u001b[0m to view this Streamlit app on a browser, run it with the following\n",
      "  command:\n",
      "\n",
      "    streamlit run C:\\Users\\init\\AppData\\Roaming\\Python\\Python311\\site-packages\\ipykernel_launcher.py [ARGUMENTS]\n",
      "2025-05-07 07:40:26.639 Thread 'MainThread': missing ScriptRunContext! This warning can be ignored when running in bare mode.\n",
      "2025-05-07 07:40:26.640 Thread 'MainThread': missing ScriptRunContext! This warning can be ignored when running in bare mode.\n",
      "2025-05-07 07:40:26.641 Thread 'MainThread': missing ScriptRunContext! This warning can be ignored when running in bare mode.\n",
      "2025-05-07 07:40:26.642 Thread 'MainThread': missing ScriptRunContext! This warning can be ignored when running in bare mode.\n",
      "2025-05-07 07:40:26.642 Thread 'MainThread': missing ScriptRunContext! This warning can be ignored when running in bare mode.\n",
      "2025-05-07 07:40:26.643 Session state does not function when running a script without `streamlit run`\n",
      "2025-05-07 07:40:26.644 Thread 'MainThread': missing ScriptRunContext! This warning can be ignored when running in bare mode.\n",
      "2025-05-07 07:40:26.644 Thread 'MainThread': missing ScriptRunContext! This warning can be ignored when running in bare mode.\n",
      "2025-05-07 07:40:26.645 Thread 'MainThread': missing ScriptRunContext! This warning can be ignored when running in bare mode.\n",
      "2025-05-07 07:40:26.645 Thread 'MainThread': missing ScriptRunContext! This warning can be ignored when running in bare mode.\n",
      "2025-05-07 07:40:26.646 Thread 'MainThread': missing ScriptRunContext! This warning can be ignored when running in bare mode.\n",
      "2025-05-07 07:40:26.648 Thread 'MainThread': missing ScriptRunContext! This warning can be ignored when running in bare mode.\n",
      "2025-05-07 07:40:26.649 Thread 'MainThread': missing ScriptRunContext! This warning can be ignored when running in bare mode.\n",
      "2025-05-07 07:40:26.650 Thread 'MainThread': missing ScriptRunContext! This warning can be ignored when running in bare mode.\n",
      "2025-05-07 07:40:26.651 Thread 'MainThread': missing ScriptRunContext! This warning can be ignored when running in bare mode.\n",
      "2025-05-07 07:40:26.652 Thread 'MainThread': missing ScriptRunContext! This warning can be ignored when running in bare mode.\n",
      "2025-05-07 07:40:26.652 Thread 'MainThread': missing ScriptRunContext! This warning can be ignored when running in bare mode.\n",
      "2025-05-07 07:40:26.654 Thread 'MainThread': missing ScriptRunContext! This warning can be ignored when running in bare mode.\n",
      "2025-05-07 07:40:26.656 Thread 'MainThread': missing ScriptRunContext! This warning can be ignored when running in bare mode.\n"
     ]
    },
    {
     "data": {
      "text/plain": [
       "DeltaGenerator()"
      ]
     },
     "execution_count": 2,
     "metadata": {},
     "output_type": "execute_result"
    }
   ],
   "source": [
    "# ---------- Setup ----------\n",
    "# Initialize pygame mixer\n",
    "pygame.mixer.init()\n",
    "\n",
    "# Setup audio output folder\n",
    "output_dir = \"D:/tts_audio_playback\"\n",
    "os.makedirs(output_dir, exist_ok=True)\n",
    "\n",
    "# Load ML components for genre prediction\n",
    "clf = joblib.load('genre_classifier_model.pkl')\n",
    "tfidf_vectorizer = joblib.load('tfidf_vectorizer.pkl')\n",
    "mlb = joblib.load('mlb_transformer.pkl')\n",
    "sbert_model = SentenceTransformer('paraphrase-MiniLM-L6-v2')\n",
    "\n",
    "# Language options\n",
    "languages = {\n",
    "    \"English\": \"en\",\n",
    "    \"Urdu\": \"ur\",\n",
    "    \"Arabic\": \"ar\",\n",
    "    \"Korean\": \"ko\"\n",
    "}\n",
    "translator = Translator()\n",
    "\n",
    "# ---------- Streamlit UI ----------\n",
    "st.title(\"🎬 Filmception: Movie Summary Translator & Genre Predictor\")\n",
    "\n",
    "summary = st.text_area(\"📜 Enter your movie summary:\")\n",
    "selected_options = st.multiselect(\"Choose what you want to do:\", \n",
    "                                  [\"Convert Summary to Audio\", \"Predict Genre\"])\n",
    "\n",
    "if summary and selected_options:\n",
    "    if len(summary.split()) < 10:\n",
    "        st.warning(\"✍️ Try entering a longer, more detailed summary for better results.\")\n",
    "\n",
    "    if \"Convert Summary to Audio\" in selected_options:\n",
    "        lang_choice = st.selectbox(\"Select a language for audio playback:\", list(languages.keys()))\n",
    "        lang_code = languages[lang_choice]\n",
    "\n",
    "        try:\n",
    "            # Translate if needed\n",
    "            if lang_code != 'en':\n",
    "                st.write(f\"🔁 Translating to {lang_choice}...\")\n",
    "                translated_text = translator.translate(summary, dest=lang_code).text\n",
    "            else:\n",
    "                translated_text = summary\n",
    "\n",
    "            # Generate audio filename\n",
    "            timestamp = datetime.now().strftime(\"%Y%m%d_%H%M%S\")\n",
    "            audio_file = os.path.join(output_dir, f\"summary_{timestamp}_{lang_code}.mp3\")\n",
    "\n",
    "            # Generate and save audio\n",
    "            tts = gTTS(text=translated_text, lang=lang_code)\n",
    "            tts.save(audio_file)\n",
    "\n",
    "            st.success(f\"✅ Audio generated in {lang_choice}!\")\n",
    "\n",
    "            # Download button\n",
    "            with open(audio_file, \"rb\") as f:\n",
    "                st.download_button(\"⬇️ Download Audio\", f, file_name=os.path.basename(audio_file))\n",
    "\n",
    "            # Play audio\n",
    "            pygame.mixer.music.load(audio_file)\n",
    "            pygame.mixer.music.play()\n",
    "            while pygame.mixer.music.get_busy():\n",
    "                time.sleep(0.5)\n",
    "            pygame.mixer.music.stop()\n",
    "        except Exception as e:\n",
    "            st.error(f\"⚠️ Error during TTS playback: {e}\")\n",
    "\n",
    "    if \"Predict Genre\" in selected_options:\n",
    "        try:\n",
    "            st.write(\"🔍 Predicting genres...\")\n",
    "\n",
    "            # Preprocess for ML model\n",
    "            summary_tfidf = tfidf_vectorizer.transform([summary])\n",
    "            summary_sbert = sbert_model.encode([summary])\n",
    "            summary_combined = hstack([summary_tfidf, np.array(summary_sbert)])\n",
    "\n",
    "            # Predict with threshold 0.4\n",
    "            probas = clf.predict_proba(summary_combined)\n",
    "            threshold = 0.4\n",
    "            prediction = (probas >= threshold).astype(int)\n",
    "            predicted_genres = mlb.inverse_transform(prediction)\n",
    "\n",
    "            if predicted_genres[0]:\n",
    "                st.success(f\"🎯 Predicted Genres: {', '.join(predicted_genres[0])}\")\n",
    "            else:\n",
    "                st.warning(\"🤔 No genre could be confidently predicted.\")\n",
    "        except Exception as e:\n",
    "            st.error(f\"⚠️ Error during genre prediction: {e}\")\n",
    "elif not summary:\n",
    "    st.warning(\"⛔ Please enter a movie summary to continue.\")\n",
    "\n",
    "# Footer\n",
    "st.markdown(\"---\")\n",
    "st.markdown(\"**Built with ❤️ using Streamlit, gTTS, Google Translate API, SBERT, and Scikit-learn.**\")"
   ]
  }
 ],
 "metadata": {
  "kernelspec": {
   "display_name": "Python 3",
   "language": "python",
   "name": "python3"
  },
  "language_info": {
   "codemirror_mode": {
    "name": "ipython",
    "version": 3
   },
   "file_extension": ".py",
   "mimetype": "text/x-python",
   "name": "python",
   "nbconvert_exporter": "python",
   "pygments_lexer": "ipython3",
   "version": "3.11.8"
  }
 },
 "nbformat": 4,
 "nbformat_minor": 5
}
